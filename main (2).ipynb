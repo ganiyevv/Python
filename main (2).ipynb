{
 "cells": [
  {
   "cell_type": "markdown",
   "id": "28e53689",
   "metadata": {},
   "source": [
    "# Python Homeworks\n",
    "\n",
    "## Lesson 2"
   ]
  },
  {
   "cell_type": "markdown",
   "id": "6be94984",
   "metadata": {},
   "source": [
    "1. Extract car names from the following text:"
   ]
  },
  {
   "cell_type": "code",
   "execution_count": 160,
   "id": "75cef2ee",
   "metadata": {},
   "outputs": [],
   "source": [
    "car = 'MsaatmiazD'"
   ]
  },
  {
   "cell_type": "code",
   "execution_count": 161,
   "id": "6d773247",
   "metadata": {},
   "outputs": [
    {
     "data": {
      "text/plain": [
       "'Matiz'"
      ]
     },
     "execution_count": 161,
     "metadata": {},
     "output_type": "execute_result"
    }
   ],
   "source": [
    "car[::2]"
   ]
  },
  {
   "cell_type": "code",
   "execution_count": 162,
   "id": "97c02341",
   "metadata": {},
   "outputs": [
    {
     "data": {
      "text/plain": [
       "'Damas'"
      ]
     },
     "execution_count": 162,
     "metadata": {},
     "output_type": "execute_result"
    }
   ],
   "source": [
    "car[::-2]"
   ]
  },
  {
   "cell_type": "markdown",
   "id": "6b097e48",
   "metadata": {},
   "source": [
    "2. Extract the residence area from the following text:"
   ]
  },
  {
   "cell_type": "code",
   "execution_count": 163,
   "id": "842ed354",
   "metadata": {},
   "outputs": [],
   "source": [
    "txt = \"I'am John. I am from London\"\n"
   ]
  },
  {
   "cell_type": "code",
   "execution_count": 164,
   "id": "746b8725",
   "metadata": {},
   "outputs": [
    {
     "name": "stdout",
     "output_type": "stream",
     "text": [
      "London\n"
     ]
    }
   ],
   "source": [
    "yashash_joyi = txt[21:27]\n",
    "print(yashash_joyi)"
   ]
  },
  {
   "cell_type": "code",
   "execution_count": 165,
   "id": "217817cd",
   "metadata": {},
   "outputs": [
    {
     "name": "stdout",
     "output_type": "stream",
     "text": [
      " London\n"
     ]
    }
   ],
   "source": [
    "residence = txt.split(\"from\")[1]\n",
    "print(residence)"
   ]
  },
  {
   "cell_type": "markdown",
   "id": "e5857a35",
   "metadata": {},
   "source": [
    "3. Write a Python program that takes a user input string and prints it in reverse order."
   ]
  },
  {
   "cell_type": "code",
   "execution_count": 166,
   "id": "aa15aa63",
   "metadata": {},
   "outputs": [
    {
     "data": {
      "text/plain": [
       "\"nasmatk'O mid matk'O\""
      ]
     },
     "execution_count": 166,
     "metadata": {},
     "output_type": "execute_result"
    }
   ],
   "source": [
    "txt = \"O'ktam dim O'ktamsan\" \n",
    "txt[::-1]"
   ]
  },
  {
   "cell_type": "markdown",
   "id": "4ae1ef49",
   "metadata": {},
   "source": [
    "4. Write a Python program that checks if a given word is a palindrome (reads the same forward and backward)."
   ]
  },
  {
   "cell_type": "code",
   "execution_count": 40,
   "id": "9c4c0c63",
   "metadata": {},
   "outputs": [
    {
     "name": "stdout",
     "output_type": "stream",
     "text": [
      "Yes, it is a palindrome\n"
     ]
    }
   ],
   "source": [
    "word = input(\"Enter a word:\")\n",
    "word = word.lower()\n",
    "\n",
    "if word == word[::-1]:\n",
    "    print(\"Yes, it is a palindrome\")\n",
    "else:\n",
    "    print(\"No, it is not a palindrome\")"
   ]
  },
  {
   "cell_type": "markdown",
   "id": "25fb7941",
   "metadata": {},
   "source": [
    "5. Create and Access List Elements. Create a list containing five different fruits and print the third fruit."
   ]
  },
  {
   "cell_type": "code",
   "execution_count": 51,
   "id": "6de5d857",
   "metadata": {},
   "outputs": [
    {
     "name": "stdout",
     "output_type": "stream",
     "text": [
      "grape\n",
      "banana\n"
     ]
    }
   ],
   "source": [
    "ls = [\"aplle\", \"melon\", \"grape\", \"banana\", \"orange\"]\n",
    "print(ls[2])\n",
    "print(ls[3])"
   ]
  },
  {
   "cell_type": "markdown",
   "id": "311b17f2",
   "metadata": {},
   "source": [
    "6. Concatenate Two Lists. Create two lists of numbers and concatenate them into a single list.\n",
    "\n"
   ]
  },
  {
   "cell_type": "code",
   "execution_count": 57,
   "id": "c7ffe495",
   "metadata": {},
   "outputs": [],
   "source": [
    "ls = [435,571,527]"
   ]
  },
  {
   "cell_type": "code",
   "execution_count": 59,
   "id": "150b6249",
   "metadata": {},
   "outputs": [],
   "source": [
    "ls2 = [\"lemon\", \"banana\", \"orange\"]"
   ]
  },
  {
   "cell_type": "code",
   "execution_count": 60,
   "id": "358f9d43",
   "metadata": {},
   "outputs": [
    {
     "data": {
      "text/plain": [
       "[435, 571, 527, 'lemon', 'banana', 'orange']"
      ]
     },
     "execution_count": 60,
     "metadata": {},
     "output_type": "execute_result"
    }
   ],
   "source": [
    "ls.extend(ls2)\n",
    "ls"
   ]
  },
  {
   "cell_type": "markdown",
   "id": "bc8a88fd",
   "metadata": {},
   "source": [
    "7. Extract Elements from a List. Given a list of numbers, extract the first, middle, and last elements and store them in a new list."
   ]
  },
  {
   "cell_type": "code",
   "execution_count": null,
   "id": "05c020fd",
   "metadata": {},
   "outputs": [
    {
     "name": "stdout",
     "output_type": "stream",
     "text": [
      "[1, 8, 15]\n"
     ]
    }
   ],
   "source": [
    "ls = [1,2,3,4,5,6,7,8,9,10,11,12,13,14,15]\n",
    "first = ls[0]\n",
    "middle = ls[len(ls)//2]\n",
    "last = ls[-1]\n",
    "ls2 = [first, middle, last]\n",
    "print(ls2) "
   ]
  },
  {
   "cell_type": "markdown",
   "id": "4438d378",
   "metadata": {},
   "source": [
    "8. Check Element in a List. Given a list of cities, check if \"Paris\" is in the list and print the result."
   ]
  },
  {
   "cell_type": "code",
   "execution_count": 67,
   "id": "b368c98f",
   "metadata": {},
   "outputs": [
    {
     "name": "stdout",
     "output_type": "stream",
     "text": [
      "['London', 'Tashkent', 'Urgench', 'Moscow', 'Paris']\n"
     ]
    }
   ],
   "source": [
    "ls = [\"London\", \"Tashkent\", \"Urgench\", \"Moscow\", \"Paris\"]\n",
    "\n",
    "if \"Paris\" in ls:\n",
    "    print(ls)\n"
   ]
  },
  {
   "cell_type": "markdown",
   "id": "b53dae3a",
   "metadata": {},
   "source": [
    "9. Duplicate a List Without Using Loops. Create a list of numbers and duplicate it without using loops."
   ]
  },
  {
   "cell_type": "code",
   "execution_count": 68,
   "id": "f627d1d4",
   "metadata": {},
   "outputs": [
    {
     "name": "stdout",
     "output_type": "stream",
     "text": [
      "[1, 2, 3, 4, 5, 6, 7, 1, 2, 3, 4, 5, 6, 7]\n"
     ]
    }
   ],
   "source": [
    "ls = [1,2,3,4,5,6,7]\n",
    "ls2 = ls * 2\n",
    "print(ls2)"
   ]
  },
  {
   "cell_type": "markdown",
   "id": "7d25254c",
   "metadata": {},
   "source": [
    "10. Swap First and Last Elements of a List. Given a list of numbers, swap the first and last elements.\n",
    "\n"
   ]
  },
  {
   "cell_type": "code",
   "execution_count": 70,
   "id": "294cf1f7",
   "metadata": {},
   "outputs": [
    {
     "name": "stdout",
     "output_type": "stream",
     "text": [
      "[10, 2, 3, 4, 5, 6, 7, 8, 9, 1]\n"
     ]
    }
   ],
   "source": [
    "ls = [1,2,3,4,5,6,7,8,9,10]\n",
    "ls[0], ls[-1] = ls[-1], ls[0]\n",
    "print(ls)"
   ]
  }
 ],
 "metadata": {
  "kernelspec": {
   "display_name": "Python 3",
   "language": "python",
   "name": "python3"
  },
  "language_info": {
   "codemirror_mode": {
    "name": "ipython",
    "version": 3
   },
   "file_extension": ".py",
   "mimetype": "text/x-python",
   "name": "python",
   "nbconvert_exporter": "python",
   "pygments_lexer": "ipython3",
   "version": "3.13.6"
  }
 },
 "nbformat": 4,
 "nbformat_minor": 5
}
